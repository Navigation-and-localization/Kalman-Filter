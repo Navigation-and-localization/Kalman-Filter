{
 "cells": [
  {
   "cell_type": "code",
   "execution_count": 5,
   "metadata": {},
   "outputs": [],
   "source": [
    "import numpy as np\n",
    "import math\n",
    "\n",
    "def ComputeGausian(mu,var,x):\n",
    "    #f(x | mu,var^2)\n",
    "    f =(1/math.sqrt(2*np.pi*(var))) * np.exp(-1*((x-mu)**2)/(2*(var)))\n",
    "    return f\n",
    "\n",
    "def predict(mu1,var1,mu2,var2):\n",
    "    if var1 == 0:\n",
    "        var1 = 0.00001\n",
    "    if var2 == 0:\n",
    "        return mu2,var2\n",
    "    #mu3,var3\n",
    "    mu3 = (mu1*var2 +mu2*var1)/(var1+var2)\n",
    "    var3 = 1/(1/var1 + 1/var2)\n",
    "    return mu3,var3\n",
    "\n",
    "def update(mu1,var1,mu2,var2):\n",
    "    mu3 = mu1 + mu2\n",
    "    var3 =var1 + var2\n",
    "    return (mu3,var3)"
   ]
  },
  {
   "cell_type": "code",
   "execution_count": 4,
   "metadata": {},
   "outputs": [
    {
     "data": {
      "text/plain": [
       "0.126156626101008"
      ]
     },
     "execution_count": 4,
     "metadata": {},
     "output_type": "execute_result"
    }
   ],
   "source": [
    "ComputeGausian(8.0,10.0,8.0)"
   ]
  },
  {
   "cell_type": "code",
   "execution_count": 2,
   "metadata": {},
   "outputs": [
    {
     "data": {
      "text/plain": [
       "(10.0, 1.0)"
      ]
     },
     "execution_count": 2,
     "metadata": {},
     "output_type": "execute_result"
    }
   ],
   "source": [
    "predict(5,2,15,2)"
   ]
  },
  {
   "cell_type": "code",
   "execution_count": 6,
   "metadata": {},
   "outputs": [
    {
     "data": {
      "text/plain": [
       "(20, 12)"
      ]
     },
     "execution_count": 6,
     "metadata": {},
     "output_type": "execute_result"
    }
   ],
   "source": [
    "update(5,10,15,2)"
   ]
  },
  {
   "cell_type": "code",
   "execution_count": 7,
   "metadata": {},
   "outputs": [
    {
     "data": {
      "text/plain": [
       "(12, 4.5)"
      ]
     },
     "execution_count": 7,
     "metadata": {},
     "output_type": "execute_result"
    }
   ],
   "source": [
    "update(3,4.5,9,0)"
   ]
  },
  {
   "cell_type": "code",
   "execution_count": 2,
   "metadata": {},
   "outputs": [],
   "source": [
    "import numpy as np\n",
    "#get 2 list of measurment and return their covariance\n",
    "def covariance(x1,x2):\n",
    "    s = 0\n",
    "    av1 = sum(x1)/len(x1)\n",
    "    av2 = sum(x2)/len(x2)\n",
    "    for i in range(len(x1)):\n",
    "        s = s + (av1 - x1[i])*(av2 - x2[i])\n",
    "    return s/len(x1)\n",
    "\n",
    "def variance(var):\n",
    "    av = sum(var)/len(var)\n",
    "    s = 0\n",
    "    for i in range(len(var)):\n",
    "        s = s + ((av - var[i])**2)\n",
    "    return (s/len(var))**0.5\n",
    "\n",
    "def covarianceMatrix(x1):\n",
    "    #each item in x1 is a list of results\n",
    "    resMat = np.zeros((len(x1),len(x1)))\n",
    "    \n",
    "    for i in range(len(x1)):\n",
    "        for j in range(len(x1)):\n",
    "            \n",
    "            if i == j:\n",
    "                # the diagonal of the matrix is the varience of each list\n",
    "                resMat[i][j] = (variance(x1[i]))**2\n",
    "            elif i != j:\n",
    "                resMat[i][j] = covariance(x1[i],x1[j])\n",
    "                \n",
    "    print(np.matrix(resMat))"
   ]
  },
  {
   "cell_type": "code",
   "execution_count": 3,
   "metadata": {},
   "outputs": [
    {
     "name": "stdout",
     "output_type": "stream",
     "text": [
      "188.65\n",
      "17.582168610874614\n",
      "11.360206235552493\n"
     ]
    }
   ],
   "source": [
    "x1 = [2,3,4,10,22,55,7.5]\n",
    "x2 = [0.2,0.3,6,3,21,33,10]\n",
    "print(covariance(x1,x2))\n",
    "print(variance(x1))\n",
    "print(variance(x2))"
   ]
  },
  {
   "cell_type": "code",
   "execution_count": 4,
   "metadata": {},
   "outputs": [
    {
     "name": "stdout",
     "output_type": "stream",
     "text": [
      "[[309.13265306 188.65      ]\n",
      " [188.65       129.05428571]]\n"
     ]
    }
   ],
   "source": [
    "a = [[2,3,4,10,22,55,7.5],[0.2,0.3,6,3,21,33,10]]\n",
    "covarianceMatrix(a)"
   ]
  },
  {
   "cell_type": "markdown",
   "metadata": {},
   "source": [
    "**Kalman filter 2-D**"
   ]
  },
  {
   "cell_type": "code",
   "execution_count": 52,
   "metadata": {},
   "outputs": [],
   "source": [
    "import numpy as np\n",
    "from numpy.linalg import inv"
   ]
  },
  {
   "cell_type": "code",
   "execution_count": 53,
   "metadata": {
    "scrolled": true
   },
   "outputs": [
    {
     "name": "stdout",
     "output_type": "stream",
     "text": [
      "the F Matrix \n",
      " [[1. 1.]\n",
      " [0. 1.]]\n",
      "the P Matrix \n",
      " [[4.   0.  ]\n",
      " [0.   1.44]]\n",
      "the H Matrix \n",
      " [[3.2808399 0.       ]]\n"
     ]
    }
   ],
   "source": [
    "deltat = 1\n",
    "oneFoot = 0.3048\n",
    "\n",
    "sensorvariance = 0.5\n",
    "\n",
    "x = np.matrix([[8],[5]])\n",
    "fMatrix = np.matrix([[1.,1.],[0.,1.]])\n",
    "pMatrix = np.matrix([[4,0],[0,1.44]])\n",
    "hMatrix = np.matrix([1/oneFoot,0.])\n",
    "\n",
    "print(f\"the F Matrix \\n {fMatrix}\")\n",
    "print(f\"the P Matrix \\n {pMatrix}\")\n",
    "print(f\"the H Matrix \\n {hMatrix}\")"
   ]
  },
  {
   "cell_type": "markdown",
   "metadata": {},
   "source": [
    "***The prediction phase***"
   ]
  },
  {
   "cell_type": "code",
   "execution_count": 54,
   "metadata": {},
   "outputs": [
    {
     "name": "stdout",
     "output_type": "stream",
     "text": [
      "[[13.]\n",
      " [ 5.]]\n",
      "The new P matrix \n",
      " [[5.44 1.44]\n",
      " [1.44 1.44]]\n"
     ]
    }
   ],
   "source": [
    "Z = np.matrix([[43]])\n",
    "Qmatrix =0\n",
    "I = np.matrix([[1,0],[0,1]])\n",
    "x = fMatrix*x\n",
    "pMatrix = fMatrix*pMatrix*fMatrix.T + Qmatrix\n",
    "\n",
    "print(x)\n",
    "print(f\"The new P matrix \\n {pMatrix}\")"
   ]
  },
  {
   "cell_type": "markdown",
   "metadata": {},
   "source": [
    "**The Update phase**"
   ]
  },
  {
   "cell_type": "code",
   "execution_count": 55,
   "metadata": {},
   "outputs": [
    {
     "name": "stdout",
     "output_type": "stream",
     "text": [
      "After Update:\n",
      "\n",
      "P matrix is:\n",
      " [[0.02312702 0.00612186]\n",
      " [0.00612186 1.06044402]]\n",
      "\n",
      "State Vector is:\n",
      " [[13.10594766]\n",
      " [ 5.02804497]]\n",
      "\n",
      "New Kalman Gain (K):\n",
      " [[0.30350421]\n",
      " [0.08033935]]\n"
     ]
    }
   ],
   "source": [
    "rMatrix = np.matrix([sensorvariance**2])\n",
    "S = hMatrix*pMatrix*hMatrix.T + rMatrix\n",
    "S =inv(S)\n",
    "K = pMatrix*hMatrix.T*S\n",
    "\n",
    "\n",
    "x = x + K*(Z-hMatrix*x)\n",
    "pMatrix = (I - K*hMatrix)*pMatrix\n",
    "\n",
    "print(\"After Update:\")\n",
    "\n",
    "print(\"\\nP matrix is:\\n\", pMatrix)\n",
    "print(\"\\nState Vector is:\\n\", x)\n",
    "print(\"\\nNew Kalman Gain (K):\\n\",K)"
   ]
  },
  {
   "cell_type": "code",
   "execution_count": 4,
   "metadata": {},
   "outputs": [
    {
     "data": {
      "text/plain": [
       "[<matplotlib.lines.Line2D at 0x1ac5cfd4f70>,\n",
       " <matplotlib.lines.Line2D at 0x1ac5cfe50a0>]"
      ]
     },
     "execution_count": 4,
     "metadata": {},
     "output_type": "execute_result"
    },
    {
     "data": {
      "image/png": "[encoded data removed]",
      "text/plain": [
       "<Figure size 432x288 with 1 Axes>"
      ]
     },
     "metadata": {
      "needs_background": "light"
     },
     "output_type": "display_data"
    }
   ],
   "source": [
    "import matplotlib.pyplot as plt\n",
    "%matplotlib inline\n",
    "x = np.arange(0,20,0.01)\n",
    "y = 2*np.sin(1.5*x)+ 1.5*np.cos(2*x)  +np.random.normal(0,0.3,len(x))\n",
    "z = 2*np.sin(1.5*x)+ 1.5*np.cos(2*x)\n",
    "plt.plot(x,y,x,z)"
   ]
  },
  {
   "cell_type": "markdown",
   "metadata": {},
   "source": [
    "**RADAR AND LIDAR**"
   ]
  },
  {
   "cell_type": "code",
   "execution_count": 58,
   "metadata": {},
   "outputs": [],
   "source": [
    "import numpy as np\n",
    "import math\n",
    "def from_state_to_radar(state_vector):\n",
    "    ro = math.sqrt(state_vector[0]**2+state_vector[1]**2)\n",
    "    fi = math.atan(state_vector[1]/state_vector[0])\n",
    "    ro_dot = (state_vector[0]*state_vector[2]+state_vector[1]*state_vector[3]) / math.sqrt(state_vector[0]**2 + state_vector[1]**2)\n",
    "    radar_vector = np.matrix([ro,fi,ro_dot])\n",
    "   \n",
    "    \n",
    "    print(radar_vector)\n"
   ]
  },
  {
   "cell_type": "code",
   "execution_count": 59,
   "metadata": {},
   "outputs": [
    {
     "name": "stdout",
     "output_type": "stream",
     "text": [
      "[[1.41421356 0.78539816 1.41421356]]\n"
     ]
    }
   ],
   "source": [
    "from_state_to_radar([1,1,1,1])"
   ]
  },
  {
   "cell_type": "code",
   "execution_count": null,
   "metadata": {},
   "outputs": [],
   "source": []
  }
 ],
 "metadata": {
  "kernelspec": {
   "display_name": "Python 3",
   "language": "python",
   "name": "python3"
  },
  "language_info": {
   "codemirror_mode": {
    "name": "ipython",
    "version": 3
   },
   "file_extension": ".py",
   "mimetype": "text/x-python",
   "name": "python",
   "nbconvert_exporter": "python",
   "pygments_lexer": "ipython3",
   "version": "3.8.3"
  }
 },
 "nbformat": 4,
 "nbformat_minor": 4
}
